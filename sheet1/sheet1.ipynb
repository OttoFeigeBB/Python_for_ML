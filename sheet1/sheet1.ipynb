{
 "cells": [
  {
   "cell_type": "markdown",
   "metadata": {},
   "source": [
    "# Exercise Sheet 1: Python Basics\n",
    "\n",
    "This first  exercise sheet tests the basic functionalities of the Python programming language in the context of a simple prediction task. We consider the problem of predicting health risk of subjects from personal data and habits. We first use for this task a decision tree\n",
    "\n",
    "![](tree.png)\n",
    "\n",
    "adapted from the webpage http://www.refactorthis.net/post/2013/04/10/Machine-Learning-tutorial-How-to-create-a-decision-tree-in-RapidMiner-using-the-Titanic-passenger-data-set.aspx. For this exercise sheet, you are required to use only pure Python, and to not import any module, including numpy. In exercise sheet 2, the nearest neighbor part of this exercise sheet will be revisited with numpy."
   ]
  },
  {
   "cell_type": "markdown",
   "metadata": {},
   "source": [
    "## Classifying a single instance (15 P)\n",
    "\n",
    "* Create a function that takes as input a tuple containing values for attributes (smoker,age,diet), and computes the output of the decision tree.\n",
    "* Test your function on the tuple `('yes',31,'good')`,"
   ]
  },
  {
   "cell_type": "code",
   "execution_count": 23,
   "metadata": {},
   "outputs": [
    {
     "data": {
      "text/plain": [
       "(('yes', 31, 'good'), 'more')"
      ]
     },
     "execution_count": 23,
     "metadata": {},
     "output_type": "execute_result"
    }
   ],
   "source": [
    "def exercise1(t):\n",
    "    if(t[0] == 'yes'):\n",
    "        if(t[1] <= 29.5):\n",
    "            result = (t,'less')\n",
    "        elif(t[1] > 29.5):\n",
    "            result = (t,'more')\n",
    "    else:\n",
    "        if(t[2] == 'good'):\n",
    "            result = (t, 'less')\n",
    "        elif(t[2] == 'poor'):\n",
    "            result = (t, 'more')\n",
    "    return result\n",
    "exercise1(('yes', 31, 'good'))"
   ]
  },
  {
   "cell_type": "markdown",
   "metadata": {},
   "source": [
    "## Reading a dataset from a text file (10 P)\n",
    "\n",
    "The file `health-test.txt` contains several fictious records of personal data and habits.\n",
    "\n",
    "* Read the file automatically using the methods introduced during the lecture.\n",
    "* Represent the dataset as a list of tuples."
   ]
  },
  {
   "cell_type": "code",
   "execution_count": 24,
   "metadata": {
    "scrolled": true
   },
   "outputs": [
    {
     "data": {
      "text/plain": [
       "[('yes', 21, 'poor'),\n",
       " ('no', 50, 'good'),\n",
       " ('no', 23, 'good'),\n",
       " ('yes', 45, 'poor'),\n",
       " ('yes', 51, 'good'),\n",
       " ('no', 60, 'good'),\n",
       " ('no', 15, 'poor'),\n",
       " ('no', 18, 'good')]"
      ]
     },
     "execution_count": 24,
     "metadata": {},
     "output_type": "execute_result"
    }
   ],
   "source": [
    "def exercise2(filename):\n",
    "    result = []\n",
    "    f = open(filename, 'r')\n",
    "    for line in f:\n",
    "        string_list = str.split(line[:-1], ',')\n",
    "        string_list[1] = int(string_list[1])\n",
    "        result = result + [tuple(string_list)]\n",
    "    return result\n",
    "exercise2('health-test.txt')"
   ]
  },
  {
   "cell_type": "markdown",
   "metadata": {},
   "source": [
    "## Applying the decision tree to the dataset (15 P)\n",
    "\n",
    "* Apply the decision tree to all points in the dataset, and compute the percentage of them that are classified as \"more risk\"."
   ]
  },
  {
   "cell_type": "code",
   "execution_count": 33,
   "metadata": {},
   "outputs": [
    {
     "data": {
      "text/plain": [
       "0.375"
      ]
     },
     "execution_count": 33,
     "metadata": {},
     "output_type": "execute_result"
    }
   ],
   "source": [
    "def exercise3():\n",
    "    test_set = exercise2('health-test.txt')\n",
    "    return len(filter(lambda x: exercise1(x)[1] == 'more', test_set))/float(len(test_set))\n",
    "exercise3()"
   ]
  },
  {
   "cell_type": "markdown",
   "metadata": {},
   "source": [
    "## Learning from examples (10 P)\n",
    "\n",
    "Suppose that instead of relying on a fixed decision tree, we would like to use a data-driven approach where data points are classified based on a set of training observations manually labeled by experts. Such labeled dataset is available in the file `health-train.txt`. The first three columns have the same meaning than for `health-test.txt`, and the last column corresponds to the labels.\n",
    "\n",
    "* Write a procedure that reads this file and converts it into a list of pairs. The first element of each pair is a triplet of attributes, and the second element is the label."
   ]
  },
  {
   "cell_type": "code",
   "execution_count": 43,
   "metadata": {},
   "outputs": [
    {
     "data": {
      "text/plain": [
       "[(('yes', 54, 'good'), 'less'),\n",
       " (('no', 55, 'good'), 'less'),\n",
       " (('no', 26, 'good'), 'less'),\n",
       " (('yes', 40, 'good'), 'more'),\n",
       " (('yes', 25, 'poor'), 'less'),\n",
       " (('no', 13, 'poor'), 'more'),\n",
       " (('no', 15, 'good'), 'less'),\n",
       " (('no', 50, 'poor'), 'more'),\n",
       " (('yes', 33, 'good'), 'more'),\n",
       " (('no', 35, 'good'), 'less'),\n",
       " (('no', 41, 'good'), 'less'),\n",
       " (('yes', 30, 'poor'), 'more'),\n",
       " (('no', 39, 'poor'), 'more'),\n",
       " (('no', 20, 'good'), 'less'),\n",
       " (('yes', 18, 'poor'), 'less'),\n",
       " (('yes', 55, 'good'), 'more')]"
      ]
     },
     "execution_count": 43,
     "metadata": {},
     "output_type": "execute_result"
    }
   ],
   "source": [
    "def exercise4(filename):\n",
    "    f = open(filename, 'r')\n",
    "    result = []\n",
    "    for line in f:\n",
    "        string_list = str.split(line[:-1], ',')\n",
    "        string_list[1] = int(string_list[1])\n",
    "        attribute_list = string_list[0:3]\n",
    "        \n",
    "        result = result + [(tuple(attribute_list), string_list[3])]\n",
    "    return result\n",
    "exercise4('health-train.txt')"
   ]
  },
  {
   "cell_type": "markdown",
   "metadata": {},
   "source": [
    "## Nearest neighbor classifier (25 P)\n",
    "\n",
    "We consider the nearest neighbor algorithm that classifies test points following the label of the nearest neighbor in the training data. For this, we need to define a distance function between data points. We define it to be\n",
    "\n",
    "`d(a,b) = (a[0]!=b[0])+((a[1]-b[1])/50.0)**2+(a[2]!=b[2])`\n",
    "\n",
    "where `a` and `b` are two tuples corrsponding to the attributes of two data points.\n",
    "\n",
    "* Write a function that retrieves for a test point the nearest neighbor in the training set, and classifies the test point accordingly.\n",
    "* Test your function on the tuple `('yes',31,'good')`"
   ]
  },
  {
   "cell_type": "code",
   "execution_count": 56,
   "metadata": {},
   "outputs": [
    {
     "data": {
      "text/plain": [
       "(('yes', 31, 'good'), 'more')"
      ]
     },
     "execution_count": 56,
     "metadata": {},
     "output_type": "execute_result"
    }
   ],
   "source": [
    "def exercise5a(x):\n",
    "    train_set = exercise4('health-train.txt')\n",
    "    ret = [x,100]\n",
    "    for i in train_set:\n",
    "        d_tmp = (x[0] != i[0][0]) + ((x[1] - i[0][1])/50.0)**2 + (x[2] != i[0][2])\n",
    "        if d_tmp < ret[1]:\n",
    "            ret = [i, d_tmp]\n",
    "    return (x, ret[0][1])\n",
    "exercise5a(('yes', 31, 'good'))"
   ]
  },
  {
   "cell_type": "markdown",
   "metadata": {},
   "source": [
    "* Apply both the decision tree and nearest neighbor classifiers on the test set, and find the data point(s) for which the two classifiers disagree, and the fraction of the time it happens."
   ]
  },
  {
   "cell_type": "code",
   "execution_count": 58,
   "metadata": {},
   "outputs": [
    {
     "data": {
      "text/plain": [
       "([('yes', 51, 'good')], 0.125)"
      ]
     },
     "execution_count": 58,
     "metadata": {},
     "output_type": "execute_result"
    }
   ],
   "source": [
    "def exercise5b():\n",
    "    test_set = exercise2('health-test.txt')\n",
    "    disagreement_list = filter(lambda x: exercise1(x) != exercise5a(x), test_set)\n",
    "    disagreement_ratio = len(disagreement_list)/float(len(test_set))\n",
    "    return (disagreement_list, disagreement_ratio)\n",
    "exercise5b()"
   ]
  },
  {
   "cell_type": "markdown",
   "metadata": {},
   "source": [
    "One problem of simple nearest neighbors is that one needs to compare the point to predict to all data points in the training set. This can be slow for datasets of thousands of points or more. Alternatively, some classifiers train a model first, and then use it to classify the data.\n",
    "\n",
    "## Nearest mean classifier (25 P)\n",
    "\n",
    "We consider one such trainable model, which operates in two steps:\n",
    "\n",
    "(1) Compute the average point for each class, (2) classify new points to be of the class whose average point is nearest to the point to predict.\n",
    "\n",
    "For this classifier, we convert the attributes smoker and diet to real values (for smoker: yes=1.0 and no=0.0, and for diet: good=0.0 and poor=1.0), and use the modified distance function:\n",
    "\n",
    "`d(a,b) = (a[0]-b[0])**2+((a[1]-b[1])/50.0)**2+(a[2]-b[2])**2`\n",
    "\n",
    "We adopt an object-oriented approach for building this classifier.\n",
    "\n",
    "* Implement the methods `train` and `predict` of the class `NearestMeanClassifier`."
   ]
  },
  {
   "cell_type": "code",
   "execution_count": 94,
   "metadata": {},
   "outputs": [],
   "source": [
    "class NearestMeanClassifier:\n",
    "    \n",
    "    # Training method that takes as input a dataset\n",
    "    # and produces two internal vectors corresponding\n",
    "    # to the mean of each class.\n",
    "    def train(self,dataset):\n",
    "        less_counts = len(filter(lambda x: x[1] == 'less', dataset))\n",
    "        more_counts = len(filter(lambda x: x[1] == 'more', dataset))\n",
    "        less_attributes = [0,0,0]\n",
    "        more_attributes = [0,0,0]\n",
    "        for x in dataset:\n",
    "            if(x[1] == 'less'):\n",
    "                if(x[0][0] == 'yes'):\n",
    "                    less_attributes[0] = less_attributes[0] + 1\n",
    "                less_attributes[1] = less_attributes[1] + x[0][1]\n",
    "                if(x[0][2] == 'poor'):\n",
    "                    less_attributes[2] = less_attributes[2] + 1\n",
    "            if(x[1] == 'more'):\n",
    "                if(x[0][0] == 'yes'):\n",
    "                    more_attributes[0] = more_attributes[0] + 1\n",
    "                more_attributes[1] = more_attributes[1] + x[0][1]\n",
    "                if(x[0][2] == 'poor'):\n",
    "                    more_attributes[2] = more_attributes[2] + 1\n",
    "        less_attributes_mean = (less_attributes[0]/float(less_counts), \n",
    "                                less_attributes[1]/float(less_counts), \n",
    "                                less_attributes[2]/float(less_counts))\n",
    "        more_attributes_mean = (more_attributes[0]/float(more_counts), \n",
    "                                more_attributes[1]/float(more_counts), \n",
    "                                more_attributes[2]/float(more_counts))\n",
    "        self.mean =  {'less': less_attributes_mean, 'more': more_attributes_mean}\n",
    "                \n",
    "    \n",
    "    # Prediction method that takes as input a new data\n",
    "    # point and predicts it to belong to the class with\n",
    "    # nearest mean.\n",
    "    def predict(self,x):\n",
    "        x_list = list(x)\n",
    "        if(x_list[0] == 'yes'):\n",
    "            x_list[0] = 1.0\n",
    "        else:\n",
    "            x_list[0] = 0.0\n",
    "        if(x_list[2] == 'good'):\n",
    "            x_list[2] = 0.0\n",
    "        else:\n",
    "            x_list[2] = 1.0\n",
    "        l_m = self.mean['less']\n",
    "        m_m = self.mean['more']\n",
    "        d_to_less_mean = (x_list[0] - l_m[0])**2 + ((x_list[1] - l_m[1])/50.0)**2 + (x_list[2] - l_m[2])**2\n",
    "        d_to_more_mean = (x_list[0] - m_m[0])**2 + ((x_list[1] - m_m[1])/50.0)**2 + (x_list[2] - m_m[2])**2\n",
    "        if(d_to_less_mean < d_to_more_mean):\n",
    "            return (x, 'less')\n",
    "        else:\n",
    "            return (x, 'more')"
   ]
  },
  {
   "cell_type": "markdown",
   "metadata": {},
   "source": [
    "* Build an object of class `NearestMeanClassifier`, train it on the training data, and print the mean vector for each class."
   ]
  },
  {
   "cell_type": "code",
   "execution_count": 95,
   "metadata": {},
   "outputs": [
    {
     "name": "stdout",
     "output_type": "stream",
     "text": [
      "{'more': (0.5714285714285714, 37.142857142857146, 0.5714285714285714), 'less': (0.3333333333333333, 32.111111111111114, 0.2222222222222222)}\n"
     ]
    }
   ],
   "source": [
    "nmc = NearestMeanClassifier()\n",
    "train_set = exercise4('health-train.txt')\n",
    "nmc.train(train_set)\n",
    "print(nmc.mean)"
   ]
  },
  {
   "cell_type": "markdown",
   "metadata": {},
   "source": [
    "* Predict the test data using the nearest mean classifier and print all test examples for which all three classifiers (decision tree, nearest neighbor and nearest mean) agree."
   ]
  },
  {
   "cell_type": "code",
   "execution_count": 109,
   "metadata": {},
   "outputs": [
    {
     "data": {
      "text/plain": [
       "[(('no', 50, 'good'), 'less'),\n",
       " (('no', 23, 'good'), 'less'),\n",
       " (('yes', 45, 'poor'), 'more'),\n",
       " (('no', 60, 'good'), 'less'),\n",
       " (('no', 15, 'poor'), 'more'),\n",
       " (('no', 18, 'good'), 'less')]"
      ]
     },
     "execution_count": 109,
     "metadata": {},
     "output_type": "execute_result"
    }
   ],
   "source": [
    "def exercise6b():\n",
    "    test_set = exercise2('health-test.txt')\n",
    "    result = []\n",
    "    for i in test_set:\n",
    "        if(nmc.predict(i) == exercise5a(i) and exercise5a(i) == exercise1(i)):\n",
    "            result = result + [nmc.predict(i)]\n",
    "    return result\n",
    "exercise6b()\n"
   ]
  }
 ],
 "metadata": {
  "kernelspec": {
   "display_name": "Python 2",
   "language": "python",
   "name": "python2"
  },
  "language_info": {
   "codemirror_mode": {
    "name": "ipython",
    "version": 2
   },
   "file_extension": ".py",
   "mimetype": "text/x-python",
   "name": "python",
   "nbconvert_exporter": "python",
   "pygments_lexer": "ipython2",
   "version": "2.7.13"
  }
 },
 "nbformat": 4,
 "nbformat_minor": 1
}
